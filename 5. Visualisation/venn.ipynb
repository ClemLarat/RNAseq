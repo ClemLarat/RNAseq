{
 "cells": [
  {
   "cell_type": "code",
   "execution_count": 1,
   "id": "199b86d7-7a22-4947-aa27-943d5510e3ed",
   "metadata": {},
   "outputs": [],
   "source": [
    "# pip install supervenn"
   ]
  },
  {
   "cell_type": "code",
   "execution_count": 1,
   "id": "56f11a9f-3a1a-4238-853d-8e8c6167886a",
   "metadata": {},
   "outputs": [],
   "source": [
    "import supervenn, pandas"
   ]
  },
  {
   "cell_type": "code",
   "execution_count": 2,
   "id": "354d88de-5601-42de-b8eb-7c1fbda23d16",
   "metadata": {},
   "outputs": [],
   "source": [
    "import matplotlib, matplotlib.pyplot\n",
    "matplotlib.rcParams.update({'font.size':20, \n",
    "                            'font.family':'calibri', \n",
    "                            'xtick.labelsize':16, \n",
    "                            'ytick.labelsize':16, \n",
    "                            'figure.figsize':(16*(2/3), 9*(2/3)), \n",
    "                            'axes.labelsize':20\n",
    "                           })"
   ]
  },
  {
   "cell_type": "markdown",
   "id": "a2fa2f07-05ab-4b45-bc72-d868e5825a4d",
   "metadata": {},
   "source": [
    "# define annotations for later"
   ]
  },
  {
   "cell_type": "code",
   "execution_count": 3,
   "id": "2cd5fa23-b326-42cc-bb99-371ce9a69665",
   "metadata": {},
   "outputs": [
    {
     "data": {
      "text/html": [
       "<div>\n",
       "<style scoped>\n",
       "    .dataframe tbody tr th:only-of-type {\n",
       "        vertical-align: middle;\n",
       "    }\n",
       "\n",
       "    .dataframe tbody tr th {\n",
       "        vertical-align: top;\n",
       "    }\n",
       "\n",
       "    .dataframe thead th {\n",
       "        text-align: right;\n",
       "    }\n",
       "</style>\n",
       "<table border=\"1\" class=\"dataframe\">\n",
       "  <thead>\n",
       "    <tr style=\"text-align: right;\">\n",
       "      <th></th>\n",
       "      <th>Unnamed: 0</th>\n",
       "      <th>ensembl_transcript_id</th>\n",
       "      <th>ensembl_gene_id</th>\n",
       "      <th>external_gene_name</th>\n",
       "      <th>gene_biotype</th>\n",
       "      <th>description</th>\n",
       "    </tr>\n",
       "  </thead>\n",
       "  <tbody>\n",
       "    <tr>\n",
       "      <th>0</th>\n",
       "      <td>1</td>\n",
       "      <td>ENST00000387314</td>\n",
       "      <td>ENSG00000210049</td>\n",
       "      <td>MT-TF</td>\n",
       "      <td>Mt_tRNA</td>\n",
       "      <td>mitochondrially encoded tRNA-Phe (UUU/C) [Sour...</td>\n",
       "    </tr>\n",
       "    <tr>\n",
       "      <th>1</th>\n",
       "      <td>2</td>\n",
       "      <td>ENST00000389680</td>\n",
       "      <td>ENSG00000211459</td>\n",
       "      <td>MT-RNR1</td>\n",
       "      <td>Mt_rRNA</td>\n",
       "      <td>mitochondrially encoded 12S rRNA [Source:HGNC ...</td>\n",
       "    </tr>\n",
       "    <tr>\n",
       "      <th>2</th>\n",
       "      <td>3</td>\n",
       "      <td>ENST00000387342</td>\n",
       "      <td>ENSG00000210077</td>\n",
       "      <td>MT-TV</td>\n",
       "      <td>Mt_tRNA</td>\n",
       "      <td>mitochondrially encoded tRNA-Val (GUN) [Source...</td>\n",
       "    </tr>\n",
       "    <tr>\n",
       "      <th>3</th>\n",
       "      <td>4</td>\n",
       "      <td>ENST00000387347</td>\n",
       "      <td>ENSG00000210082</td>\n",
       "      <td>MT-RNR2</td>\n",
       "      <td>Mt_rRNA</td>\n",
       "      <td>mitochondrially encoded 16S rRNA [Source:HGNC ...</td>\n",
       "    </tr>\n",
       "    <tr>\n",
       "      <th>4</th>\n",
       "      <td>5</td>\n",
       "      <td>ENST00000386347</td>\n",
       "      <td>ENSG00000209082</td>\n",
       "      <td>MT-TL1</td>\n",
       "      <td>Mt_tRNA</td>\n",
       "      <td>mitochondrially encoded tRNA-Leu (UUA/G) 1 [So...</td>\n",
       "    </tr>\n",
       "    <tr>\n",
       "      <th>...</th>\n",
       "      <td>...</td>\n",
       "      <td>...</td>\n",
       "      <td>...</td>\n",
       "      <td>...</td>\n",
       "      <td>...</td>\n",
       "      <td>...</td>\n",
       "    </tr>\n",
       "    <tr>\n",
       "      <th>278215</th>\n",
       "      <td>278216</td>\n",
       "      <td>ENST00000441160</td>\n",
       "      <td>ENSG00000228437</td>\n",
       "      <td>LINC02474</td>\n",
       "      <td>lncRNA</td>\n",
       "      <td>long intergenic non-protein coding RNA 2474 [S...</td>\n",
       "    </tr>\n",
       "    <tr>\n",
       "      <th>278216</th>\n",
       "      <td>278217</td>\n",
       "      <td>ENST00000412098</td>\n",
       "      <td>ENSG00000229463</td>\n",
       "      <td>LYST-AS1</td>\n",
       "      <td>lncRNA</td>\n",
       "      <td>LYST antisense RNA 1 [Source:HGNC Symbol;Acc:H...</td>\n",
       "    </tr>\n",
       "    <tr>\n",
       "      <th>278217</th>\n",
       "      <td>278218</td>\n",
       "      <td>ENST00000438371</td>\n",
       "      <td>ENSG00000229291</td>\n",
       "      <td>LINC02768</td>\n",
       "      <td>lncRNA</td>\n",
       "      <td>long intergenic non-protein coding RNA 2768 [S...</td>\n",
       "    </tr>\n",
       "    <tr>\n",
       "      <th>278218</th>\n",
       "      <td>278219</td>\n",
       "      <td>ENST00000715678</td>\n",
       "      <td>ENSG00000229291</td>\n",
       "      <td>LINC02768</td>\n",
       "      <td>lncRNA</td>\n",
       "      <td>long intergenic non-protein coding RNA 2768 [S...</td>\n",
       "    </tr>\n",
       "    <tr>\n",
       "      <th>278219</th>\n",
       "      <td>278220</td>\n",
       "      <td>ENST00000443207</td>\n",
       "      <td>ENSG00000229291</td>\n",
       "      <td>LINC02768</td>\n",
       "      <td>lncRNA</td>\n",
       "      <td>long intergenic non-protein coding RNA 2768 [S...</td>\n",
       "    </tr>\n",
       "  </tbody>\n",
       "</table>\n",
       "<p>278220 rows × 6 columns</p>\n",
       "</div>"
      ],
      "text/plain": [
       "        Unnamed: 0 ensembl_transcript_id  ensembl_gene_id external_gene_name  \\\n",
       "0                1       ENST00000387314  ENSG00000210049              MT-TF   \n",
       "1                2       ENST00000389680  ENSG00000211459            MT-RNR1   \n",
       "2                3       ENST00000387342  ENSG00000210077              MT-TV   \n",
       "3                4       ENST00000387347  ENSG00000210082            MT-RNR2   \n",
       "4                5       ENST00000386347  ENSG00000209082             MT-TL1   \n",
       "...            ...                   ...              ...                ...   \n",
       "278215      278216       ENST00000441160  ENSG00000228437          LINC02474   \n",
       "278216      278217       ENST00000412098  ENSG00000229463           LYST-AS1   \n",
       "278217      278218       ENST00000438371  ENSG00000229291          LINC02768   \n",
       "278218      278219       ENST00000715678  ENSG00000229291          LINC02768   \n",
       "278219      278220       ENST00000443207  ENSG00000229291          LINC02768   \n",
       "\n",
       "       gene_biotype                                        description  \n",
       "0           Mt_tRNA  mitochondrially encoded tRNA-Phe (UUU/C) [Sour...  \n",
       "1           Mt_rRNA  mitochondrially encoded 12S rRNA [Source:HGNC ...  \n",
       "2           Mt_tRNA  mitochondrially encoded tRNA-Val (GUN) [Source...  \n",
       "3           Mt_rRNA  mitochondrially encoded 16S rRNA [Source:HGNC ...  \n",
       "4           Mt_tRNA  mitochondrially encoded tRNA-Leu (UUA/G) 1 [So...  \n",
       "...             ...                                                ...  \n",
       "278215       lncRNA  long intergenic non-protein coding RNA 2474 [S...  \n",
       "278216       lncRNA  LYST antisense RNA 1 [Source:HGNC Symbol;Acc:H...  \n",
       "278217       lncRNA  long intergenic non-protein coding RNA 2768 [S...  \n",
       "278218       lncRNA  long intergenic non-protein coding RNA 2768 [S...  \n",
       "278219       lncRNA  long intergenic non-protein coding RNA 2768 [S...  \n",
       "\n",
       "[278220 rows x 6 columns]"
      ]
     },
     "execution_count": 3,
     "metadata": {},
     "output_type": "execute_result"
    }
   ],
   "source": [
    "annotation_file = '/Users/cmb17/Documents/PhD/Results/Capan-1/RNAseq/annotation.tsv'\n",
    "annotation = pandas.read_csv(annotation_file, sep='\\t')\n",
    "annotation"
   ]
  },
  {
   "cell_type": "markdown",
   "id": "eb4035ae-5cf1-492d-b84b-5d5ba0624c64",
   "metadata": {},
   "source": [
    "# super venn"
   ]
  },
  {
   "cell_type": "code",
   "execution_count": 4,
   "id": "23472e26-64c2-44ee-b091-1035b6dadba0",
   "metadata": {},
   "outputs": [
    {
     "name": "stdout",
     "output_type": "stream",
     "text": [
      "834\n",
      "1450\n",
      "1687\n",
      "1469\n"
     ]
    }
   ],
   "source": [
    "input_dir = '/Users/cmb17/Documents/PhD/Results/Capan-1/RNAseq/'\n",
    "output_dir = '/Users/cmb17/Documents/PhD/Results/Capan-1/RNAseq/'\n",
    "\n",
    "df = pandas.read_csv(input_dir+'KO_VS_Ctrl.tsv', sep='\\t', index_col=0)\n",
    "a = set(df.index)\n",
    "print(len(a))\n",
    "\n",
    "df = pandas.read_csv(input_dir+'KO_VS_17-4.2.tsv', sep='\\t', index_col=0)\n",
    "b = set(df.index)\n",
    "print(len(b))\n",
    "\n",
    "df = pandas.read_csv(input_dir+'KO_VS_17-1.8.tsv', sep='\\t', index_col=0)\n",
    "c = set(df.index)\n",
    "print(len(c))\n",
    "\n",
    "df = pandas.read_csv(input_dir+'17-4.2_VS_17-1.8.tsv', sep='\\t', index_col=0)\n",
    "d = set(df.index)\n",
    "print(len(d))"
   ]
  },
  {
   "cell_type": "code",
   "execution_count": 5,
   "id": "aba2d0cb-64b7-45d4-8673-598f7587bdfd",
   "metadata": {},
   "outputs": [
    {
     "data": {
      "image/png": "[encoded data removed]",
      "text/plain": [
       "<Figure size 1066.67x600 with 1 Axes>"
      ]
     },
     "metadata": {},
     "output_type": "display_data"
    }
   ],
   "source": [
    "sets = [a, b, c]\n",
    "labels = ['Ctrl vs. KO', '17-4.2 vs. KO', '17-1.8 vs. KO']\n",
    "mso = supervenn.supervenn(sets, labels,\n",
    "                          side_plots=False, chunks_ordering='size', \n",
    "                          reverse_sets_order=False, fontsize=12, color_cycle=['xkcd:pastel pink', 'xkcd:light violet', 'xkcd:powder blue'])\n",
    "\n",
    "matplotlib.pyplot.show()\n",
    "#matplotlib.pyplot.savefig('supervenn1.svg')"
   ]
  },
  {
   "cell_type": "code",
   "execution_count": 6,
   "id": "0eb4ddd5-8eff-4280-9864-a1191e164867",
   "metadata": {},
   "outputs": [
    {
     "name": "stdout",
     "output_type": "stream",
     "text": [
      "1687\n",
      "1450\n",
      "834\n"
     ]
    }
   ],
   "source": [
    "print(966 + 411 + 187 + 123)\n",
    "print(703 + 411 + 187 + 149)\n",
    "print(375 + 187 + 149 + 123)"
   ]
  },
  {
   "cell_type": "code",
   "execution_count": 7,
   "id": "bfc260b0-aa38-41f0-918d-4b8fee523999",
   "metadata": {},
   "outputs": [
    {
     "name": "stdout",
     "output_type": "stream",
     "text": [
      "Requirement already satisfied: openpyxl in c:\\users\\cmb17\\appdata\\local\\programs\\python\\python312\\lib\\site-packages (3.1.5)\n",
      "Requirement already satisfied: et-xmlfile in c:\\users\\cmb17\\appdata\\local\\programs\\python\\python312\\lib\\site-packages (from openpyxl) (1.1.0)\n",
      "Note: you may need to restart the kernel to use updated packages.\n"
     ]
    }
   ],
   "source": [
    "#pip install openpyxl"
   ]
  },
  {
   "cell_type": "code",
   "execution_count": 12,
   "id": "40edd1f6-a3f8-49af-b8de-c9cf1726fa41",
   "metadata": {},
   "outputs": [
    {
     "name": "stdout",
     "output_type": "stream",
     "text": [
      "411\n",
      "storing file...\n",
      "CPU times: total: 23.9 s\n",
      "Wall time: 23.9 s\n"
     ]
    }
   ],
   "source": [
    "%%time\n",
    "\n",
    "# explore what happened with the effect of restoring ATG7(2) in absence of ATG7(1), independently of the levels\n",
    "Group1 = mso.chunks[frozenset([1, 2])]\n",
    "print(len(Group1))\n",
    "\n",
    "container4table = []\n",
    "\n",
    "for ensembl in list(Group1):\n",
    "    symbol = list(set(annotation[annotation['ensembl_gene_id'] == ensembl]['external_gene_name'].values))[0]\n",
    "    description = list(set(annotation[annotation['ensembl_gene_id'] == ensembl]['description'].values))[0].split(' [')[0]\n",
    "    biotype = list(set(annotation[annotation['ensembl_gene_id'] == ensembl]['gene_biotype'].values))[0].split(' [')[0]\n",
    "    #print('{}\\t{}\\t{}\\t{}'.format(ensembl, symbol, description, biotype))\n",
    "\n",
    "    #fill up for storing info as a table\n",
    "    container4table.append([ensembl, symbol, description, biotype])\n",
    "\n",
    "#finalize & store table\n",
    "print('storing file...')\n",
    "table = pandas.DataFrame(container4table, columns=['ENSEMBL', 'Symbol', 'Description', 'Biotype'])\n",
    "table.set_index('ENSEMBL', inplace=True)\n",
    "\n",
    "label = 'ATG7(2)-dose-independent_no-ATG7(1)'\n",
    "table_file = label + '.xlsx'\n",
    "table.to_excel(table_file)"
   ]
  },
  {
   "cell_type": "code",
   "execution_count": 7,
   "id": "1602ea16-31d1-4334-9775-ea16efd0e426",
   "metadata": {},
   "outputs": [
    {
     "name": "stdout",
     "output_type": "stream",
     "text": [
      "411\n",
      "storing file...\n",
      "CPU times: total: 21.3 s\n",
      "Wall time: 21.4 s\n"
     ]
    }
   ],
   "source": [
    "%%time\n",
    "\n",
    "# explore what happened with the effect of restoring ATG7(2) in absence of ATG7(1), independently of the levels\n",
    "Group1 = mso.chunks[frozenset([1, 2])]\n",
    "print(len(Group1))\n",
    "\n",
    "container4table = []\n",
    "\n",
    "for ensembl in list(Group1):\n",
    "    symbol = list(set(annotation[annotation['ensembl_gene_id'] == ensembl]['external_gene_name'].values))[0]\n",
    "    description = list(set(annotation[annotation['ensembl_gene_id'] == ensembl]['description'].values))[0].split(' [')[0]\n",
    "    biotype = list(set(annotation[annotation['ensembl_gene_id'] == ensembl]['gene_biotype'].values))[0].split(' [')[0]\n",
    "    #print('{}\\t{}\\t{}\\t{}'.format(ensembl, symbol, description, biotype))\n",
    "\n",
    "    #fill up for storing info as a table\n",
    "    container4table.append([ensembl, symbol, description, biotype])\n",
    "\n",
    "#finalize & store table\n",
    "print('storing file...')\n",
    "table = pandas.DataFrame(container4table, columns=['ENSEMBL', 'Symbol', 'Description', 'Biotype'])\n",
    "table.set_index('ENSEMBL', inplace=True)\n",
    "\n",
    "label = 'ATG7(2)-dose-independent_no-ATG7(1)'\n",
    "table_file = label + '.tsv'\n",
    "table.to_csv(table_file, sep='\\t')"
   ]
  },
  {
   "cell_type": "code",
   "execution_count": 8,
   "id": "40bd32e0-c2ee-4905-bf5d-ee8989697484",
   "metadata": {},
   "outputs": [
    {
     "name": "stdout",
     "output_type": "stream",
     "text": [
      "187\n",
      "storing file...\n",
      "CPU times: total: 9.64 s\n",
      "Wall time: 9.84 s\n"
     ]
    }
   ],
   "source": [
    "%%time\n",
    "\n",
    "# explore what happened with the effect of restoring ATG7(2) in presence of ATG7(1), independently of the levels\n",
    "Group2 = mso.chunks[frozenset([0, 1, 2])]\n",
    "print(len(Group2))\n",
    "\n",
    "container4table = []\n",
    "\n",
    "for ensembl in list(Group2):\n",
    "    symbol = list(set(annotation[annotation['ensembl_gene_id'] == ensembl]['external_gene_name'].values))[0]\n",
    "    description = list(set(annotation[annotation['ensembl_gene_id'] == ensembl]['description'].values))[0].split(' [')[0]\n",
    "    biotype = list(set(annotation[annotation['ensembl_gene_id'] == ensembl]['gene_biotype'].values))[0].split(' [')[0]\n",
    "    #print('{}\\t{}\\t{}\\t{}'.format(ensembl, symbol, description, biotype))\n",
    "\n",
    "    #fill up for storing info as a table\n",
    "    container4table.append([ensembl, symbol, description, biotype])\n",
    "\n",
    "#finalize & store table\n",
    "print('storing file...')\n",
    "table = pandas.DataFrame(container4table, columns=['ENSEMBL', 'Symbol', 'Description', 'Biotype'])\n",
    "table.set_index('ENSEMBL', inplace=True)\n",
    "\n",
    "label = 'ATG7(2)-dose-independent_ATG7(1)'\n",
    "table_file = label + '.tsv'\n",
    "table.to_csv(table_file, sep='\\t')"
   ]
  },
  {
   "cell_type": "code",
   "execution_count": 9,
   "id": "1fe76316-4afb-404b-8881-0ec93798e6dd",
   "metadata": {},
   "outputs": [
    {
     "name": "stdout",
     "output_type": "stream",
     "text": [
      "966\n",
      "storing file...\n",
      "CPU times: total: 50.1 s\n",
      "Wall time: 51.2 s\n"
     ]
    }
   ],
   "source": [
    "%%time\n",
    "\n",
    "# explore what happened with the effect of restoring high ATG7(2) in absence of ATG7(1)\n",
    "Group3 = mso.chunks[frozenset([2])]\n",
    "print(len(Group3))\n",
    "\n",
    "container4table = []\n",
    "\n",
    "for ensembl in list(Group3):\n",
    "    symbol = list(set(annotation[annotation['ensembl_gene_id'] == ensembl]['external_gene_name'].values))[0]\n",
    "    description = list(set(annotation[annotation['ensembl_gene_id'] == ensembl]['description'].values))[0].split(' [')[0]\n",
    "    biotype = list(set(annotation[annotation['ensembl_gene_id'] == ensembl]['gene_biotype'].values))[0].split(' [')[0]\n",
    "    #print('{}\\t{}\\t{}\\t{}'.format(ensembl, symbol, description, biotype))\n",
    "\n",
    "    #fill up for storing info as a table\n",
    "    container4table.append([ensembl, symbol, description, biotype])\n",
    "\n",
    "#finalize & store table\n",
    "print('storing file...')\n",
    "table = pandas.DataFrame(container4table, columns=['ENSEMBL', 'Symbol', 'Description', 'Biotype'])\n",
    "table.set_index('ENSEMBL', inplace=True)\n",
    "\n",
    "label = 'ATG7(2)-high_no-ATG7(1)'\n",
    "table_file = label + '.tsv'\n",
    "table.to_csv(table_file, sep='\\t')"
   ]
  },
  {
   "cell_type": "code",
   "execution_count": 10,
   "id": "dd3a9a09-c075-4d53-82c7-f530f58ef771",
   "metadata": {},
   "outputs": [
    {
     "name": "stdout",
     "output_type": "stream",
     "text": [
      "123\n",
      "storing file...\n",
      "CPU times: total: 6.42 s\n",
      "Wall time: 6.63 s\n"
     ]
    }
   ],
   "source": [
    "%%time\n",
    "\n",
    "# explore what happened with the effect of restoring high ATG7(2) in presence of ATG7(1)\n",
    "Group4 = mso.chunks[frozenset([0, 2])]\n",
    "print(len(Group4))\n",
    "\n",
    "container4table = []\n",
    "\n",
    "for ensembl in list(Group4):\n",
    "    symbol = list(set(annotation[annotation['ensembl_gene_id'] == ensembl]['external_gene_name'].values))[0]\n",
    "    description = list(set(annotation[annotation['ensembl_gene_id'] == ensembl]['description'].values))[0].split(' [')[0]\n",
    "    biotype = list(set(annotation[annotation['ensembl_gene_id'] == ensembl]['gene_biotype'].values))[0].split(' [')[0]\n",
    "    #print('{}\\t{}\\t{}\\t{}'.format(ensembl, symbol, description, biotype))\n",
    "\n",
    "    #fill up for storing info as a table\n",
    "    container4table.append([ensembl, symbol, description, biotype])\n",
    "\n",
    "#finalize & store table\n",
    "print('storing file...')\n",
    "table = pandas.DataFrame(container4table, columns=['ENSEMBL', 'Symbol', 'Description', 'Biotype'])\n",
    "table.set_index('ENSEMBL', inplace=True)\n",
    "\n",
    "label = 'ATG7(2)-high_ATG7(1)'\n",
    "table_file = label + '.tsv'\n",
    "table.to_csv(table_file, sep='\\t')"
   ]
  },
  {
   "cell_type": "code",
   "execution_count": 11,
   "id": "ada14156-8f5b-4565-996f-ccb60efefaed",
   "metadata": {},
   "outputs": [
    {
     "name": "stdout",
     "output_type": "stream",
     "text": [
      "703\n",
      "storing file...\n",
      "CPU times: total: 36.1 s\n",
      "Wall time: 36.6 s\n"
     ]
    }
   ],
   "source": [
    "%%time\n",
    "\n",
    "# explore what happened with the effect of restoring low ATG7(2) in absence of ATG7(1)\n",
    "Group5 = mso.chunks[frozenset([1])]\n",
    "print(len(Group5))\n",
    "\n",
    "container4table = []\n",
    "\n",
    "for ensembl in list(Group5):\n",
    "    symbol = list(set(annotation[annotation['ensembl_gene_id'] == ensembl]['external_gene_name'].values))[0]\n",
    "    description = str(list(set(annotation[annotation['ensembl_gene_id'] == ensembl]['description'].values))[0]).split(' [')[0]\n",
    "    biotype = list(set(annotation[annotation['ensembl_gene_id'] == ensembl]['gene_biotype'].values))[0].split(' [')[0]\n",
    "    #print('{}\\t{}\\t{}\\t{}'.format(ensembl, symbol, description, biotype))\n",
    "\n",
    "    #fill up for storing info as a table\n",
    "    container4table.append([ensembl, symbol, description, biotype])\n",
    "\n",
    "#finalize & store table\n",
    "print('storing file...')\n",
    "table = pandas.DataFrame(container4table, columns=['ENSEMBL', 'Symbol', 'Description', 'Biotype'])\n",
    "table.set_index('ENSEMBL', inplace=True)\n",
    "\n",
    "label = 'ATG7(2)-low_no-ATG7(1)'\n",
    "table_file = label + '.tsv'\n",
    "table.to_csv(table_file, sep='\\t')"
   ]
  },
  {
   "cell_type": "code",
   "execution_count": 12,
   "id": "e9807420-ccd1-44c0-939c-8c93873a1814",
   "metadata": {},
   "outputs": [
    {
     "name": "stdout",
     "output_type": "stream",
     "text": [
      "149\n",
      "storing file...\n",
      "CPU times: total: 7.77 s\n",
      "Wall time: 8.02 s\n"
     ]
    }
   ],
   "source": [
    "%%time\n",
    "\n",
    "# explore what happened with the effect of restoring low ATG7(2) in presence of ATG7(1)\n",
    "Group6 = mso.chunks[frozenset([0, 1])]\n",
    "print(len(Group6))\n",
    "\n",
    "container4table = []\n",
    "\n",
    "for ensembl in list(Group6):\n",
    "    symbol = list(set(annotation[annotation['ensembl_gene_id'] == ensembl]['external_gene_name'].values))[0]\n",
    "    description = list(set(annotation[annotation['ensembl_gene_id'] == ensembl]['description'].values))[0].split(' [')[0]\n",
    "    biotype = list(set(annotation[annotation['ensembl_gene_id'] == ensembl]['gene_biotype'].values))[0].split(' [')[0]\n",
    "    #print('{}\\t{}\\t{}\\t{}'.format(ensembl, symbol, description, biotype))\n",
    "\n",
    "    #fill up for storing info as a table\n",
    "    container4table.append([ensembl, symbol, description, biotype])\n",
    "\n",
    "#finalize & store table\n",
    "print('storing file...')\n",
    "table = pandas.DataFrame(container4table, columns=['ENSEMBL', 'Symbol', 'Description', 'Biotype'])\n",
    "table.set_index('ENSEMBL', inplace=True)\n",
    "\n",
    "label = 'ATG7(2)-low_ATG7(1)'\n",
    "table_file = label + '.tsv'\n",
    "table.to_csv(table_file, sep='\\t')"
   ]
  },
  {
   "cell_type": "code",
   "execution_count": 13,
   "id": "11a7e1f0-d789-437a-b257-c148735f8740",
   "metadata": {},
   "outputs": [
    {
     "name": "stdout",
     "output_type": "stream",
     "text": [
      "375\n",
      "storing file...\n",
      "CPU times: total: 19.4 s\n",
      "Wall time: 19.8 s\n"
     ]
    }
   ],
   "source": [
    "%%time\n",
    "\n",
    "# explore what happened with the effect of restoring ATG7(1) in presence of ATG7(2)\n",
    "Group7 = mso.chunks[frozenset([0])]\n",
    "print(len(Group7))\n",
    "\n",
    "container4table = []\n",
    "\n",
    "for ensembl in list(Group7):\n",
    "    symbol = list(set(annotation[annotation['ensembl_gene_id'] == ensembl]['external_gene_name'].values))[0]\n",
    "    description = list(set(annotation[annotation['ensembl_gene_id'] == ensembl]['description'].values))[0].split(' [')[0]\n",
    "    biotype = list(set(annotation[annotation['ensembl_gene_id'] == ensembl]['gene_biotype'].values))[0].split(' [')[0]\n",
    "    #print('{}\\t{}\\t{}\\t{}'.format(ensembl, symbol, description, biotype))\n",
    "\n",
    "    #fill up for storing info as a table\n",
    "    container4table.append([ensembl, symbol, description, biotype])\n",
    "\n",
    "#finalize & store table\n",
    "print('storing file...')\n",
    "table = pandas.DataFrame(container4table, columns=['ENSEMBL', 'Symbol', 'Description', 'Biotype'])\n",
    "table.set_index('ENSEMBL', inplace=True)\n",
    "\n",
    "label = 'ATG7(1)'\n",
    "table_file = label + '.tsv'\n",
    "table.to_csv(table_file, sep='\\t')"
   ]
  },
  {
   "cell_type": "code",
   "execution_count": 14,
   "id": "6b4186e6-0c45-441f-833e-95e0f9b8677b",
   "metadata": {},
   "outputs": [
    {
     "data": {
      "image/png": "[encoded data removed]",
      "text/plain": [
       "<Figure size 1066.67x600 with 1 Axes>"
      ]
     },
     "metadata": {},
     "output_type": "display_data"
    }
   ],
   "source": [
    "sets = [b, c, d]\n",
    "labels = ['17-4.2 vs. KO', '17-1.8 vs. KO', '17-1.8 vs. 17-4.2']\n",
    "mso = supervenn.supervenn(sets, labels,\n",
    "                          side_plots=False, chunks_ordering='size', \n",
    "                          reverse_sets_order=False, fontsize=12, color_cycle=['xkcd:light violet', 'xkcd:powder blue', 'xkcd:light gold'])\n",
    "\n",
    "matplotlib.pyplot.show()\n",
    "#matplotlib.pyplot.savefig('supervenn2.svg')"
   ]
  },
  {
   "cell_type": "code",
   "execution_count": 15,
   "id": "f7db1bba-7d96-4c60-82ee-09fe25cba4d5",
   "metadata": {},
   "outputs": [
    {
     "name": "stdout",
     "output_type": "stream",
     "text": [
      "1469\n",
      "1687\n",
      "1450\n"
     ]
    }
   ],
   "source": [
    "print(510 + 466 + 379 + 114)\n",
    "print(623 + 484 + 466 + 114)\n",
    "print(484 + 473 + 379 + 114)"
   ]
  },
  {
   "cell_type": "code",
   "execution_count": 16,
   "id": "575006bb-43f6-4ac1-90f3-8f2144b0f549",
   "metadata": {},
   "outputs": [
    {
     "name": "stdout",
     "output_type": "stream",
     "text": [
      "466\n",
      "storing file...\n",
      "CPU times: total: 24.1 s\n",
      "Wall time: 24.8 s\n"
     ]
    }
   ],
   "source": [
    "%%time\n",
    "\n",
    "# explore ATG7(2) dose response: intersect of 17-1.8 vs KO with 17-1.8 vs 17-4.2\n",
    "Group8 = mso.chunks[frozenset([1, 2])]\n",
    "print(len(Group8))\n",
    "\n",
    "container4table = []\n",
    "\n",
    "for ensembl in list(Group8):\n",
    "    symbol = list(set(annotation[annotation['ensembl_gene_id'] == ensembl]['external_gene_name'].values))[0]\n",
    "    description = list(set(annotation[annotation['ensembl_gene_id'] == ensembl]['description'].values))[0].split(' [')[0]\n",
    "    biotype = list(set(annotation[annotation['ensembl_gene_id'] == ensembl]['gene_biotype'].values))[0].split(' [')[0]\n",
    "    #print('{}\\t{}\\t{}\\t{}'.format(ensembl, symbol, description, biotype))\n",
    "\n",
    "    #fill up for storing info as a table\n",
    "    container4table.append([ensembl, symbol, description, biotype])\n",
    "\n",
    "#finalize & store table\n",
    "print('storing file...')\n",
    "table = pandas.DataFrame(container4table, columns=['ENSEMBL', 'Symbol', 'Description', 'Biotype'])\n",
    "table.set_index('ENSEMBL', inplace=True)\n",
    "\n",
    "label = 'ATG7(2)-high_vs_KO-17-4.2'\n",
    "table_file = label + '.tsv'\n",
    "table.to_csv(table_file, sep='\\t')"
   ]
  },
  {
   "cell_type": "code",
   "execution_count": 17,
   "id": "9766fb89-5ab6-4e0a-8332-a025852b44f9",
   "metadata": {},
   "outputs": [
    {
     "name": "stdout",
     "output_type": "stream",
     "text": [
      "379\n",
      "storing file...\n",
      "CPU times: total: 19.5 s\n",
      "Wall time: 19.8 s\n"
     ]
    }
   ],
   "source": [
    "%%time\n",
    "\n",
    "# explore ATG7(2) dose response: intersect of 17-4.2 vs KO with 17-1.8 vs 17-4.2\n",
    "Group9 = mso.chunks[frozenset([0, 2])]\n",
    "print(len(Group9))\n",
    "\n",
    "container4table = []\n",
    "\n",
    "for ensembl in list(Group9):\n",
    "    symbol = list(set(annotation[annotation['ensembl_gene_id'] == ensembl]['external_gene_name'].values))[0]\n",
    "    description = list(set(annotation[annotation['ensembl_gene_id'] == ensembl]['description'].values))[0].split(' [')[0]\n",
    "    biotype = list(set(annotation[annotation['ensembl_gene_id'] == ensembl]['gene_biotype'].values))[0].split(' [')[0]\n",
    "    #print('{}\\t{}\\t{}\\t{}'.format(ensembl, symbol, description, biotype))\n",
    "\n",
    "    #fill up for storing info as a table\n",
    "    container4table.append([ensembl, symbol, description, biotype])\n",
    "\n",
    "#finalize & store table\n",
    "print('storing file...')\n",
    "table = pandas.DataFrame(container4table, columns=['ENSEMBL', 'Symbol', 'Description', 'Biotype'])\n",
    "table.set_index('ENSEMBL', inplace=True)\n",
    "\n",
    "label = 'ATG7(2)-low_vs_KO-17-1.8'\n",
    "table_file = label + '.tsv'\n",
    "table.to_csv(table_file, sep='\\t')"
   ]
  },
  {
   "cell_type": "code",
   "execution_count": 18,
   "id": "910661e6-f450-4126-9aef-014b482c39c6",
   "metadata": {},
   "outputs": [
    {
     "name": "stdout",
     "output_type": "stream",
     "text": [
      "484\n",
      "storing file...\n",
      "CPU times: total: 25.1 s\n",
      "Wall time: 25.3 s\n"
     ]
    }
   ],
   "source": [
    "%%time\n",
    "\n",
    "# explore ATG7(2) dose response: intersect of 17-4.2 vs KO with 17-1.8 vs KO\n",
    "Group10 = mso.chunks[frozenset([0, 1])]\n",
    "print(len(Group10))\n",
    "\n",
    "container4table = []\n",
    "\n",
    "for ensembl in list(Group10):\n",
    "    symbol = list(set(annotation[annotation['ensembl_gene_id'] == ensembl]['external_gene_name'].values))[0]\n",
    "    description = list(set(annotation[annotation['ensembl_gene_id'] == ensembl]['description'].values))[0].split(' [')[0]\n",
    "    biotype = list(set(annotation[annotation['ensembl_gene_id'] == ensembl]['gene_biotype'].values))[0].split(' [')[0]\n",
    "    #print('{}\\t{}\\t{}\\t{}'.format(ensembl, symbol, description, biotype))\n",
    "\n",
    "    #fill up for storing info as a table\n",
    "    container4table.append([ensembl, symbol, description, biotype])\n",
    "\n",
    "#finalize & store table\n",
    "print('storing file...')\n",
    "table = pandas.DataFrame(container4table, columns=['ENSEMBL', 'Symbol', 'Description', 'Biotype'])\n",
    "table.set_index('ENSEMBL', inplace=True)\n",
    "\n",
    "label = 'ATG7(2)-dose-independent_overall'\n",
    "table_file = label + '.tsv'\n",
    "table.to_csv(table_file, sep='\\t')"
   ]
  },
  {
   "cell_type": "code",
   "execution_count": 19,
   "id": "9b75211f-f3ac-4764-a21f-8fd7561b11ab",
   "metadata": {},
   "outputs": [
    {
     "name": "stdout",
     "output_type": "stream",
     "text": [
      "114\n",
      "storing file...\n",
      "CPU times: total: 5.83 s\n",
      "Wall time: 5.96 s\n"
     ]
    }
   ],
   "source": [
    "%%time\n",
    "\n",
    "# explore ATG7(2) dose response: intersect of 17-4.2 vs KO with 17-1.8 vs KO and 17-1.8 vs 17-4.2\n",
    "Group11 = mso.chunks[frozenset([0, 1, 2])]\n",
    "print(len(Group11))\n",
    "\n",
    "container4table = []\n",
    "\n",
    "for ensembl in list(Group11):\n",
    "    symbol = list(set(annotation[annotation['ensembl_gene_id'] == ensembl]['external_gene_name'].values))[0]\n",
    "    description = list(set(annotation[annotation['ensembl_gene_id'] == ensembl]['description'].values))[0].split(' [')[0]\n",
    "    biotype = list(set(annotation[annotation['ensembl_gene_id'] == ensembl]['gene_biotype'].values))[0].split(' [')[0]\n",
    "    #print('{}\\t{}\\t{}\\t{}'.format(ensembl, symbol, description, biotype))\n",
    "\n",
    "    #fill up for storing info as a table\n",
    "    container4table.append([ensembl, symbol, description, biotype])\n",
    "\n",
    "#finalize & store table\n",
    "print('storing file...')\n",
    "table = pandas.DataFrame(container4table, columns=['ENSEMBL', 'Symbol', 'Description', 'Biotype'])\n",
    "table.set_index('ENSEMBL', inplace=True)\n",
    "\n",
    "label = 'ATG7(2)-dose-gradient'\n",
    "table_file = label + '.tsv'\n",
    "table.to_csv(table_file, sep='\\t')"
   ]
  },
  {
   "cell_type": "code",
   "execution_count": null,
   "id": "e0e614fb-258e-4334-b975-ce60095b2828",
   "metadata": {},
   "outputs": [],
   "source": []
  }
 ],
 "metadata": {
  "kernelspec": {
   "display_name": "Python 3 (ipykernel)",
   "language": "python",
   "name": "python3"
  },
  "language_info": {
   "codemirror_mode": {
    "name": "ipython",
    "version": 3
   },
   "file_extension": ".py",
   "mimetype": "text/x-python",
   "name": "python",
   "nbconvert_exporter": "python",
   "pygments_lexer": "ipython3",
   "version": "3.12.4"
  }
 },
 "nbformat": 4,
 "nbformat_minor": 5
}
