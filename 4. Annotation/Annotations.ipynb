{
 "cells": [
  {
   "cell_type": "code",
   "execution_count": 1,
   "id": "fb7f05b9-894e-4334-a199-d8ad1820f124",
   "metadata": {},
   "outputs": [],
   "source": [
    "import pandas"
   ]
  },
  {
   "cell_type": "code",
   "execution_count": 25,
   "id": "68202aac-4652-407c-a5d9-8be803f260e1",
   "metadata": {},
   "outputs": [],
   "source": [
    "annotation_file = '/Users/cmb17/Documents/PhD/Results/Capan-1/RNAseq/annotation.tsv'\n",
    "annotation = pandas.read_csv(annotation_file, sep='\\t')\n",
    "#annotation"
   ]
  },
  {
   "cell_type": "code",
   "execution_count": 8,
   "id": "5d87fb8f-6829-4d99-be81-ec4aea4ac4fb",
   "metadata": {},
   "outputs": [],
   "source": [
    "processed_annotation = annotation[['ensembl_gene_id', 'external_gene_name', 'description']]"
   ]
  },
  {
   "cell_type": "markdown",
   "id": "f9916e6e-92e6-4c02-ab15-e0ea477595ad",
   "metadata": {},
   "source": [
    "Annotate tsv files"
   ]
  },
  {
   "cell_type": "code",
   "execution_count": 26,
   "id": "5fe7894a-b87e-4e57-8cde-cea7f2f87815",
   "metadata": {},
   "outputs": [],
   "source": [
    "#processed_annotation.drop_duplicates(inplace=True)\n",
    "#processed_annotation.set_index('ensembl_gene_id', inplace=True)\n",
    "#processed_annotation['Description'] = processed_annotation['description'].str.split(' \\[', expand=True)[0]\n",
    "#processed_annotation.drop(['description'], axis='columns', inplace=True)\n",
    "#processed_annotation"
   ]
  },
  {
   "cell_type": "code",
   "execution_count": null,
   "id": "0edf35ac-b509-4c05-9e17-efb710047349",
   "metadata": {},
   "outputs": [],
   "source": [
    "input_dir = '/Users/cmb17/Documents/PhD/Results/Capan-1/RNAseq/'\n",
    "output_dir = '/Users/cmb17/Documents/PhD/Results/Capan-1/RNAseq/'"
   ]
  },
  {
   "cell_type": "code",
   "execution_count": 27,
   "id": "2e7b8db6-9250-4cd4-9327-9f003609b1a3",
   "metadata": {},
   "outputs": [],
   "source": [
    "# KO vs. 17-1.8\n",
    "\n",
    "Clone4 = pandas.read_csv(input_dir+'KO_VS_17-1.8.tsv', sep='\\t', index_col=0)\n",
    "Clone4_index = Clone4.index\n",
    "#Clone4"
   ]
  },
  {
   "cell_type": "code",
   "execution_count": 39,
   "id": "6cce48d3-c804-43e1-ab84-25b59ed6c7e7",
   "metadata": {},
   "outputs": [],
   "source": [
    "processed_Clone4 = Clone4.drop(['baseMean', 'lfcSE', 'stat', 'pvalue'], axis='columns')\n",
    "#processed_Clone4"
   ]
  },
  {
   "cell_type": "code",
   "execution_count": 41,
   "id": "424547df-f676-4685-bb38-3ee66d472e81",
   "metadata": {},
   "outputs": [],
   "source": [
    "annotated_Clone4 = processed_Clone4.join(processed_annotation)\n",
    "#annotated_Clone4"
   ]
  },
  {
   "cell_type": "code",
   "execution_count": 42,
   "id": "faa2d63a-05f5-4564-88bd-0f02ea669e15",
   "metadata": {},
   "outputs": [],
   "source": [
    "output_file_name = output_dir + 'KO_VS_17-1.8_annotated.tsv'\n",
    "annotated_Clone4.to_csv(output_file_name, sep='\\t')"
   ]
  },
  {
   "cell_type": "code",
   "execution_count": 32,
   "id": "741cb4d5-9df7-43f7-9904-73e158df1e9f",
   "metadata": {},
   "outputs": [],
   "source": [
    "# KO vs. 17-4.2\n",
    "\n",
    "Clone1 = pandas.read_csv(input_dir+'KO_VS_17-4.2.tsv', sep='\\t', index_col=0)\n",
    "Clone1_index = Clone1.index\n",
    "#Clone1"
   ]
  },
  {
   "cell_type": "code",
   "execution_count": 44,
   "id": "be1f89f1-9157-44a4-b215-c4d3b6e3b7d4",
   "metadata": {},
   "outputs": [],
   "source": [
    "processed_Clone1 = Clone1.drop(['baseMean', 'lfcSE', 'stat', 'pvalue'], axis='columns')\n",
    "#processed_Clone1"
   ]
  },
  {
   "cell_type": "code",
   "execution_count": 46,
   "id": "c5a1fee0-87d7-422c-ab7b-b1288427cedc",
   "metadata": {},
   "outputs": [],
   "source": [
    "annotated_Clone1 = processed_Clone1.join(processed_annotation)\n",
    "#annotated_Clone1"
   ]
  },
  {
   "cell_type": "code",
   "execution_count": 47,
   "id": "6c4ab4d7-c8ca-4d11-a433-bfc65e15f5a9",
   "metadata": {},
   "outputs": [],
   "source": [
    "output_file_name = output_dir + 'KO_VS_17-4.2_annotated.tsv'\n",
    "annotated_Clone1.to_csv(output_file_name, sep='\\t')"
   ]
  },
  {
   "cell_type": "code",
   "execution_count": 61,
   "id": "04b2caf9-e3be-4240-b141-6e9429e87d38",
   "metadata": {},
   "outputs": [],
   "source": [
    "# KO vs. Control\n",
    "\n",
    "Ctrl = pandas.read_csv(input_dir+'KO_VS_Ctrl.tsv', sep='\\t', index_col=0)\n",
    "Ctrl_index = Ctrl.index\n",
    "#Ctrl"
   ]
  },
  {
   "cell_type": "code",
   "execution_count": 62,
   "id": "3d685397-d665-4977-9819-b667d2cc6bfe",
   "metadata": {},
   "outputs": [],
   "source": [
    "processed_Ctrl = Ctrl.drop(['baseMean', 'lfcSE', 'stat', 'pvalue'], axis='columns')\n",
    "#processed_Ctrl"
   ]
  },
  {
   "cell_type": "code",
   "execution_count": 63,
   "id": "87d74170-ba30-4c36-ad7d-e58b43818d58",
   "metadata": {},
   "outputs": [],
   "source": [
    "annotated_Ctrl = processed_Ctrl.join(processed_annotation)\n",
    "#annotated_Ctrl"
   ]
  },
  {
   "cell_type": "code",
   "execution_count": 64,
   "id": "9debf4b1-b525-4c50-9563-e2692c10056c",
   "metadata": {},
   "outputs": [],
   "source": [
    "output_file_name = output_dir + 'KO_VS_Ctrl_annotated.tsv'\n",
    "annotated_Ctrl.to_csv(output_file_name, sep='\\t')"
   ]
  },
  {
   "cell_type": "code",
   "execution_count": 55,
   "id": "bf66360a-2606-47cc-87aa-7adf5d682130",
   "metadata": {},
   "outputs": [],
   "source": [
    "# 17-4.2 vs. 17-1.8\n",
    "\n",
    "Level = pandas.read_csv(input_dir+'17-4.2_VS_17-1.8.tsv', sep='\\t', index_col=0)\n",
    "Level_index = Level.index\n",
    "#Level"
   ]
  },
  {
   "cell_type": "code",
   "execution_count": 57,
   "id": "c958ef68-e1e1-4ab0-8598-38e9ad5dbaee",
   "metadata": {},
   "outputs": [],
   "source": [
    "processed_Level = Level.drop(['baseMean', 'lfcSE', 'stat', 'pvalue'], axis='columns')\n",
    "#processed_Level"
   ]
  },
  {
   "cell_type": "code",
   "execution_count": 59,
   "id": "5d6a58d5-de0d-4b5e-b301-0a405a055028",
   "metadata": {},
   "outputs": [],
   "source": [
    "annotated_Level = processed_Level.join(processed_annotation)\n",
    "#annotated_Level"
   ]
  },
  {
   "cell_type": "code",
   "execution_count": 60,
   "id": "880d42c7-09a9-4227-b209-4fe2f1a2d07a",
   "metadata": {},
   "outputs": [],
   "source": [
    "output_file_name = output_dir + '17-4.2_VS_17-1.8_annotated.tsv'\n",
    "annotated_Level.to_csv(output_file_name, sep='\\t')"
   ]
  },
  {
   "cell_type": "code",
   "execution_count": null,
   "id": "9526f6aa-f72a-46bb-be9d-ac1ecb24ddcb",
   "metadata": {},
   "outputs": [],
   "source": []
  }
 ],
 "metadata": {
  "kernelspec": {
   "display_name": "Python 3 (ipykernel)",
   "language": "python",
   "name": "python3"
  },
  "language_info": {
   "codemirror_mode": {
    "name": "ipython",
    "version": 3
   },
   "file_extension": ".py",
   "mimetype": "text/x-python",
   "name": "python",
   "nbconvert_exporter": "python",
   "pygments_lexer": "ipython3",
   "version": "3.12.4"
  }
 },
 "nbformat": 4,
 "nbformat_minor": 5
}
